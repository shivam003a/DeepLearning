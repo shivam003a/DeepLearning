{
  "nbformat": 4,
  "nbformat_minor": 0,
  "metadata": {
    "colab": {
      "provenance": [],
      "mount_file_id": "1tXU1ohPlEHXWZKDnUpFgY0eC8sikZWXH",
      "authorship_tag": "ABX9TyOdXwnRizGDHqKjOrqf2T2D",
      "include_colab_link": true
    },
    "kernelspec": {
      "name": "python3",
      "display_name": "Python 3"
    },
    "language_info": {
      "name": "python"
    }
  },
  "cells": [
    {
      "cell_type": "markdown",
      "metadata": {
        "id": "view-in-github",
        "colab_type": "text"
      },
      "source": [
        "<a href=\"https://colab.research.google.com/github/shivam003a/DeepLearning/blob/main/Logistic_Regression.ipynb\" target=\"_parent\"><img src=\"https://colab.research.google.com/assets/colab-badge.svg\" alt=\"Open In Colab\"/></a>"
      ]
    },
    {
      "cell_type": "markdown",
      "source": [
        "**1. Importing neccessary libraries**"
      ],
      "metadata": {
        "id": "5z1KZD4GC_1C"
      }
    },
    {
      "cell_type": "code",
      "execution_count": 202,
      "metadata": {
        "colab": {
          "base_uri": "https://localhost:8080/"
        },
        "id": "UZ4VgiBxvk5J",
        "outputId": "be65a30f-1650-4b5d-b1d6-8e1dea78915c"
      },
      "outputs": [
        {
          "output_type": "stream",
          "name": "stdout",
          "text": [
            "The autoreload extension is already loaded. To reload it, use:\n",
            "  %reload_ext autoreload\n"
          ]
        }
      ],
      "source": [
        "import numpy as np\n",
        "import matplotlib.pyplot as plt\n",
        "import h5py\n",
        "import copy\n",
        "\n",
        "%matplotlib inline\n",
        "%load_ext autoreload\n",
        "%autoreload 2"
      ]
    },
    {
      "cell_type": "markdown",
      "source": [
        "**2. Importing datasets**"
      ],
      "metadata": {
        "id": "bP_NZaMaDMKs"
      }
    },
    {
      "cell_type": "code",
      "source": [
        "train_dataset = h5py.File('/content/drive/MyDrive/archive/catvnoncat/train_catvnoncat.h5', \"r\")\n",
        "train_set_x_orig = np.array(train_dataset[\"train_set_x\"][:])\n",
        "train_set_y = np.array(train_dataset[\"train_set_y\"][:])\n",
        "\n",
        "test_dataset = h5py.File('/content/drive/MyDrive/archive/catvnoncat/test_catvnoncat.h5', \"r\")\n",
        "test_set_x_orig = np.array(test_dataset[\"test_set_x\"][:])\n",
        "test_set_y = np.array(test_dataset[\"test_set_y\"][:])\n",
        "\n",
        "classes = np.array(test_dataset[\"list_classes\"][:])\n",
        "\n",
        "train_set_y = train_set_y.reshape((1,train_set_y.shape[0]))\n",
        "test_set_y = test_set_y.reshape((1,test_set_y.shape[0]))"
      ],
      "metadata": {
        "id": "PsX4N_F3vy9s"
      },
      "execution_count": 203,
      "outputs": []
    },
    {
      "cell_type": "code",
      "source": [
        "m_train = train_set_x_orig.shape[0]\n",
        "m_test = test_set_x_orig.shape[0]\n",
        "num_px = train_set_x_orig.shape[1]\n",
        " \n",
        "print (\"Dataset dimensions:\")\n",
        "print (\"Number of training examples: m_train = \" + str(m_train))\n",
        "print (\"Number of testing examples: m_test = \" + str(m_test))\n",
        "print (\"Height/Width of each image: num_px = \" + str(num_px))\n",
        "print (\"Each image is of size: (\" + str(num_px) + \", \" + str(num_px) + \", 3)\")\n",
        "print (\"train_set_x shape: \" + str(train_set_x_orig.shape))\n",
        "print (\"train_set_y shape: \" + str(train_set_y.shape))\n",
        "print (\"test_set_x shape: \" + str(test_set_x_orig.shape))\n",
        "print (\"test_set_y shape: \" + str(test_set_y.shape))"
      ],
      "metadata": {
        "colab": {
          "base_uri": "https://localhost:8080/"
        },
        "id": "wWdecReVC3IM",
        "outputId": "09741a29-e744-4c51-8c70-9377e6ee1451"
      },
      "execution_count": 204,
      "outputs": [
        {
          "output_type": "stream",
          "name": "stdout",
          "text": [
            "Dataset dimensions:\n",
            "Number of training examples: m_train = 209\n",
            "Number of testing examples: m_test = 50\n",
            "Height/Width of each image: num_px = 64\n",
            "Each image is of size: (64, 64, 3)\n",
            "train_set_x shape: (209, 64, 64, 3)\n",
            "train_set_y shape: (1, 209)\n",
            "test_set_x shape: (50, 64, 64, 3)\n",
            "test_set_y shape: (1, 50)\n"
          ]
        }
      ]
    },
    {
      "cell_type": "markdown",
      "source": [
        "**3. Pre-processing of the data**"
      ],
      "metadata": {
        "id": "367LSBqzGuPC"
      }
    },
    {
      "cell_type": "code",
      "source": [
        "# Flattening of the data\n",
        "train_set_x_flatten = train_set_x_orig.reshape((-1, train_set_x_orig.shape[0]))\n",
        "test_set_x_flatten = test_set_x_orig.reshape((-1, test_set_x_orig.shape[0]))\n",
        "\n",
        "# Normalizing of the Data\n",
        "train_set_x = train_set_x_flatten/255\n",
        "test_set_x = test_set_x_flatten/255\n",
        "\n",
        "print(\"train_set_x : \" + str(train_set_x.shape))\n",
        "print(\"train_set_y : \" + str(train_set_y.shape))\n",
        "print(\"test_set_x : \" + str(test_set_x.shape))\n",
        "print(\"test_set_y : \" + str(test_set_y.shape))"
      ],
      "metadata": {
        "colab": {
          "base_uri": "https://localhost:8080/"
        },
        "id": "Ll6icBNXE-kX",
        "outputId": "3165190e-9484-49bf-b6cc-78ffec16a648"
      },
      "execution_count": 206,
      "outputs": [
        {
          "output_type": "stream",
          "name": "stdout",
          "text": [
            "train_set_x : (12288, 209)\n",
            "train_set_y : (1, 209)\n",
            "test_set_x : (12288, 50)\n",
            "test_set_y : (1, 50)\n"
          ]
        }
      ]
    },
    {
      "cell_type": "markdown",
      "source": [
        "**4. Helper Functions**"
      ],
      "metadata": {
        "id": "9lbK04QUI97o"
      }
    },
    {
      "cell_type": "code",
      "source": [
        "def sigmoid(z):\n",
        "  s = 1/(1 + np.exp(-z))\n",
        "\n",
        "  return s"
      ],
      "metadata": {
        "id": "Mm4SxqOyIG1Z"
      },
      "execution_count": 207,
      "outputs": []
    },
    {
      "cell_type": "code",
      "source": [
        "def initialize_with_zeros(dim):\n",
        "  w = np.zeros((dim,1))\n",
        "  b = 0.0\n",
        "\n",
        "  return w, b\n"
      ],
      "metadata": {
        "id": "h6Hj3njBJzur"
      },
      "execution_count": 208,
      "outputs": []
    },
    {
      "cell_type": "code",
      "source": [
        "def propagate(w,b,x,y):\n",
        "\n",
        "  size = x.shape[1]\n",
        "  # forward propagation\n",
        "  yhat = sigmoid(np.dot(w.T,x) + b)\n",
        "  cost = -(1/size) * np.sum(y*np.log(yhat) + (1-y)*np.log(1-yhat))\n",
        "\n",
        "  # backward propagation\n",
        "  dw = np.dot(x,(yhat-y).T)/size\n",
        "  db = np.sum(yhat-y)/size\n",
        "\n",
        "  grads = { \"dw\" : dw,\n",
        "           \"db\" : db}\n",
        "\n",
        "  return grads, cost\n"
      ],
      "metadata": {
        "id": "b1AFORC9JbMd"
      },
      "execution_count": 209,
      "outputs": []
    },
    {
      "cell_type": "code",
      "source": [
        "def optimize(w, b, x, y, number_itr, lr, print_cost):\n",
        "\n",
        "  w = copy.deepcopy(w)\n",
        "  b = copy.deepcopy(b)\n",
        "\n",
        "  costs = []\n",
        "  for i in range(number_itr):\n",
        "    grads, cost = propagate(w,b,x,y);\n",
        "\n",
        "    dw = grads[\"dw\"]\n",
        "    db = grads[\"db\"]\n",
        "\n",
        "    w = w - lr*dw\n",
        "    b = b - lr*db\n",
        "\n",
        "    if(i%100==0):\n",
        "      costs.append(cost)\n",
        "      \n",
        "      if print_cost:\n",
        "        print (\"Cost after iteration %i: %f\" %(i, cost))\n",
        "\n",
        "\n",
        "  params = {\"w\" : w,\n",
        "            \"b\" : b}\n",
        "\n",
        "  grads = { \"dw\" : dw,\n",
        "           \"db\" : db}\n",
        "  \n",
        "  return params, grads, costs"
      ],
      "metadata": {
        "id": "30v7ZP6gMJoc"
      },
      "execution_count": 210,
      "outputs": []
    },
    {
      "cell_type": "code",
      "source": [
        "def predict(w,b,x):\n",
        "  size = x.shape[1]\n",
        "  y_prediction = np.zeros((1, size))\n",
        "  w = w.reshape(x.shape[0], 1)\n",
        "\n",
        "  yhat = sigmoid(np.dot(w.T,x) + b);\n",
        "\n",
        "  for i in range(yhat.shape[1]):\n",
        "    if yhat[0,i]>0.5:\n",
        "      y_prediction[0,i] = 1\n",
        "    else:\n",
        "      y_prediction[0,i] = 0\n",
        "\n",
        "  return y_prediction"
      ],
      "metadata": {
        "id": "19R2kxvOTqK7"
      },
      "execution_count": 211,
      "outputs": []
    },
    {
      "cell_type": "code",
      "source": [
        "def model(x_train, y_train, x_test, y_test, number_itr, lr, print_cost=False):\n",
        "\n",
        "  w, b = initialize_with_zeros(x_train.shape[0])\n",
        "  params, grads, costs = optimize(w, b, x_train, y_train, number_itr, lr, print_cost)\n",
        "\n",
        "  w = params[\"w\"]\n",
        "  b = params[\"b\"]\n",
        "\n",
        "  y_prediction_train = predict(w, b, x_train)\n",
        "  y_prediction_test = predict(w, b, x_test)\n",
        "\n",
        "\n",
        "  if print_cost:\n",
        "    print(\"train accuracy: {} %\".format(100 - np.mean(np.abs(y_prediction_train - y_train)) * 100))\n",
        "    print(\"test accuracy: {} %\".format(100 - np.mean(np.abs(y_prediction_test - y_test)) * 100))\n",
        "\n",
        "  d = {\"costs\": costs,\n",
        "    \"y_prediction_test\": y_prediction_test, \n",
        "    \"y_prediction_train\" : y_prediction_train, \n",
        "    \"w\" : w, \n",
        "    \"b\" : b,\n",
        "    \"learning_rate\" : lr,\n",
        "    \"num_iterations\": number_itr}\n",
        "\n",
        "  return d\n",
        "\n",
        "\n"
      ],
      "metadata": {
        "id": "qdmys7J3VRs4"
      },
      "execution_count": 217,
      "outputs": []
    },
    {
      "cell_type": "code",
      "source": [
        "logistic_model = model(train_set_x, train_set_y, test_set_x, test_set_y, number_itr=2000, lr=0.005, print_cost=True)"
      ],
      "metadata": {
        "colab": {
          "base_uri": "https://localhost:8080/"
        },
        "id": "z5OJvcy7XRE3",
        "outputId": "a1573b2a-4bd1-4d3d-8675-17d718b3d2a0"
      },
      "execution_count": 218,
      "outputs": [
        {
          "output_type": "stream",
          "name": "stdout",
          "text": [
            "Cost after iteration 0: 0.693147\n",
            "Cost after iteration 100: 0.709726\n",
            "Cost after iteration 200: 0.657712\n",
            "Cost after iteration 300: 0.614611\n",
            "Cost after iteration 400: 0.578001\n",
            "Cost after iteration 500: 0.546372\n",
            "Cost after iteration 600: 0.518331\n",
            "Cost after iteration 700: 0.492852\n",
            "Cost after iteration 800: 0.469259\n",
            "Cost after iteration 900: 0.447139\n",
            "Cost after iteration 1000: 0.426262\n",
            "Cost after iteration 1100: 0.406617\n",
            "Cost after iteration 1200: 0.388723\n",
            "Cost after iteration 1300: 0.374678\n",
            "Cost after iteration 1400: 0.365826\n",
            "Cost after iteration 1500: 0.358532\n",
            "Cost after iteration 1600: 0.351612\n",
            "Cost after iteration 1700: 0.345012\n",
            "Cost after iteration 1800: 0.338704\n",
            "Cost after iteration 1900: 0.332664\n",
            "train accuracy: 91.38755980861244 %\n",
            "test accuracy: 34.0 %\n"
          ]
        }
      ]
    },
    {
      "cell_type": "code",
      "source": [
        "index = 1\n",
        "plt.imshow(train_set_x[:, index].reshape((num_px, num_px, 3)))\n",
        "print (\"y = \" + str(train_set_y[0,index]) + \", you predicted that it is a \\\"\" + classes[int(logistic_model['y_prediction_test'][0,index])].decode(\"utf-8\") +  \"\\\" picture.\")"
      ],
      "metadata": {
        "colab": {
          "base_uri": "https://localhost:8080/",
          "height": 285
        },
        "id": "5g9VOIY6YyJA",
        "outputId": "5ecc7428-cc96-480c-b13d-15b63c58ab0d"
      },
      "execution_count": 219,
      "outputs": [
        {
          "output_type": "stream",
          "name": "stdout",
          "text": [
            "y = 0, you predicted that it is a \"non-cat\" picture.\n"
          ]
        },
        {
          "output_type": "display_data",
          "data": {
            "text/plain": [
              "<Figure size 432x288 with 1 Axes>"
            ],
            "image/png": "[encoded data removed]"
          },
          "metadata": {
            "needs_background": "light"
          }
        }
      ]
    },
    {
      "cell_type": "code",
      "source": [],
      "metadata": {
        "id": "td_5A9mvfv6u"
      },
      "execution_count": null,
      "outputs": []
    }
  ]
}